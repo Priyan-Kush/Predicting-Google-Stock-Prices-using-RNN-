{
  "nbformat": 4,
  "nbformat_minor": 0,
  "metadata": {
    "colab": {
      "provenance": [],
      "collapsed_sections": []
    },
    "kernelspec": {
      "name": "python3",
      "display_name": "Python 3"
    }
  },
  "cells": [
    {
      "cell_type": "markdown",
      "metadata": {
        "id": "xpAuMVCwfWs8"
      },
      "source": [
        "# Recurrent Neural Network"
      ]
    },
    {
      "cell_type": "code",
      "source": [
        "from google.colab import drive\n",
        "drive.mount('/content/drive')"
      ],
      "metadata": {
        "colab": {
          "base_uri": "https://localhost:8080/"
        },
        "id": "D2slWtUij14L",
        "outputId": "291bb4cf-65c1-4b42-a344-d4a939d71b63"
      },
      "execution_count": 1,
      "outputs": [
        {
          "output_type": "stream",
          "name": "stdout",
          "text": [
            "Mounted at /content/drive\n"
          ]
        }
      ]
    },
    {
      "cell_type": "markdown",
      "metadata": {
        "id": "nxJfRe4bfYVA"
      },
      "source": [
        "## Part 1 - Data Preprocessing"
      ]
    },
    {
      "cell_type": "code",
      "source": [
        "# Predicting Stock Prices"
      ],
      "metadata": {
        "id": "su-HxgFrkqWJ"
      },
      "execution_count": 2,
      "outputs": []
    },
    {
      "cell_type": "markdown",
      "metadata": {
        "id": "ir9zwETrfbrp"
      },
      "source": [
        "### Importing the libraries"
      ]
    },
    {
      "cell_type": "code",
      "metadata": {
        "id": "ZT1f24vHffuf"
      },
      "source": [
        "import numpy as np\n",
        "import matplotlib.pyplot as plt\n",
        "import pandas as pd"
      ],
      "execution_count": 3,
      "outputs": []
    },
    {
      "cell_type": "markdown",
      "metadata": {
        "id": "nQ47JAxrgmaL"
      },
      "source": [
        "### Importing the training set"
      ]
    },
    {
      "cell_type": "code",
      "source": [
        "dataset_train = pd.read_csv('Google_Stock_Price_Train.csv')\n",
        "training_set= dataset_train.iloc[:,1:2].values"
      ],
      "metadata": {
        "id": "55brMi1GkuMm"
      },
      "execution_count": 4,
      "outputs": []
    },
    {
      "cell_type": "markdown",
      "metadata": {
        "id": "HT8_2UJegtG5"
      },
      "source": [
        "### Feature Scaling"
      ]
    },
    {
      "cell_type": "code",
      "source": [
        "# STandardization and Normalisation"
      ],
      "metadata": {
        "id": "3Zp2eTmSl_IT"
      },
      "execution_count": 6,
      "outputs": []
    },
    {
      "cell_type": "code",
      "source": [
        "from sklearn.preprocessing import MinMaxScaler\n",
        "sc = MinMaxScaler(feature_range = (0, 1))\n",
        "training_set_scaled = sc.fit_transform(training_set)"
      ],
      "metadata": {
        "id": "FFYMeRW-mrwg"
      },
      "execution_count": 7,
      "outputs": []
    },
    {
      "cell_type": "code",
      "source": [
        "training_set_scaled"
      ],
      "metadata": {
        "colab": {
          "base_uri": "https://localhost:8080/"
        },
        "id": "GZs3ZnePn97U",
        "outputId": "5e39ef03-82e4-4946-d524-16178fc32558"
      },
      "execution_count": 8,
      "outputs": [
        {
          "output_type": "execute_result",
          "data": {
            "text/plain": [
              "array([[0.08581368],\n",
              "       [0.09701243],\n",
              "       [0.09433366],\n",
              "       ...,\n",
              "       [0.95725128],\n",
              "       [0.93796041],\n",
              "       [0.93688146]])"
            ]
          },
          "metadata": {},
          "execution_count": 8
        }
      ]
    },
    {
      "cell_type": "markdown",
      "metadata": {
        "id": "JyYgYocqhNUg"
      },
      "source": [
        "### Creating a data structure with 60 timesteps and 1 output"
      ]
    },
    {
      "cell_type": "code",
      "source": [
        "X_train =[]\n",
        "y_train =[]\n",
        "for i in range(60, 1258):\n",
        "  X_train.append(training_set_scaled[i-60:i,0])\n",
        "  y_train.append(training_set_scaled[i,0])\n",
        "X_train, y_train= np.array(X_train), np.array(y_train)"
      ],
      "metadata": {
        "id": "Nw_XoQhnorTA"
      },
      "execution_count": 9,
      "outputs": []
    },
    {
      "cell_type": "code",
      "source": [
        "X_train"
      ],
      "metadata": {
        "colab": {
          "base_uri": "https://localhost:8080/"
        },
        "id": "NFu4USgisRYV",
        "outputId": "2ae709c6-e19c-4fda-c5f2-9f258e86c094"
      },
      "execution_count": 10,
      "outputs": [
        {
          "output_type": "execute_result",
          "data": {
            "text/plain": [
              "array([[0.08581368, 0.09701243, 0.09433366, ..., 0.07846566, 0.08034452,\n",
              "        0.08497656],\n",
              "       [0.09701243, 0.09433366, 0.09156187, ..., 0.08034452, 0.08497656,\n",
              "        0.08627874],\n",
              "       [0.09433366, 0.09156187, 0.07984225, ..., 0.08497656, 0.08627874,\n",
              "        0.08471612],\n",
              "       ...,\n",
              "       [0.92106928, 0.92438053, 0.93048218, ..., 0.95475854, 0.95204256,\n",
              "        0.95163331],\n",
              "       [0.92438053, 0.93048218, 0.9299055 , ..., 0.95204256, 0.95163331,\n",
              "        0.95725128],\n",
              "       [0.93048218, 0.9299055 , 0.93113327, ..., 0.95163331, 0.95725128,\n",
              "        0.93796041]])"
            ]
          },
          "metadata": {},
          "execution_count": 10
        }
      ]
    },
    {
      "cell_type": "code",
      "source": [
        "y_train"
      ],
      "metadata": {
        "colab": {
          "base_uri": "https://localhost:8080/"
        },
        "id": "UdmRlxzvsTmR",
        "outputId": "56a7a698-cb7a-4efb-89f1-c11cd57b2ff4"
      },
      "execution_count": 11,
      "outputs": [
        {
          "output_type": "execute_result",
          "data": {
            "text/plain": [
              "array([0.08627874, 0.08471612, 0.07454052, ..., 0.95725128, 0.93796041,\n",
              "       0.93688146])"
            ]
          },
          "metadata": {},
          "execution_count": 11
        }
      ]
    },
    {
      "cell_type": "markdown",
      "metadata": {
        "id": "D8yaN7Zvi95l"
      },
      "source": [
        "### Reshaping"
      ]
    },
    {
      "cell_type": "code",
      "source": [
        "X_train= np.reshape(X_train,(X_train.shape[0],X_train.shape[1], 1))"
      ],
      "metadata": {
        "id": "YANXKDOasp8u"
      },
      "execution_count": 13,
      "outputs": []
    },
    {
      "cell_type": "code",
      "source": [
        "#3D np arrays with stock prices, time interval and no of indicators"
      ],
      "metadata": {
        "id": "Lj9Osw1utoXG"
      },
      "execution_count": 14,
      "outputs": []
    },
    {
      "cell_type": "code",
      "source": [
        "X_train"
      ],
      "metadata": {
        "colab": {
          "base_uri": "https://localhost:8080/"
        },
        "id": "Ga4C7Ijnt0DW",
        "outputId": "aada4f48-6ad8-4454-cfc5-e8e014e10e80"
      },
      "execution_count": 16,
      "outputs": [
        {
          "output_type": "execute_result",
          "data": {
            "text/plain": [
              "array([[[0.08581368],\n",
              "        [0.09701243],\n",
              "        [0.09433366],\n",
              "        ...,\n",
              "        [0.07846566],\n",
              "        [0.08034452],\n",
              "        [0.08497656]],\n",
              "\n",
              "       [[0.09701243],\n",
              "        [0.09433366],\n",
              "        [0.09156187],\n",
              "        ...,\n",
              "        [0.08034452],\n",
              "        [0.08497656],\n",
              "        [0.08627874]],\n",
              "\n",
              "       [[0.09433366],\n",
              "        [0.09156187],\n",
              "        [0.07984225],\n",
              "        ...,\n",
              "        [0.08497656],\n",
              "        [0.08627874],\n",
              "        [0.08471612]],\n",
              "\n",
              "       ...,\n",
              "\n",
              "       [[0.92106928],\n",
              "        [0.92438053],\n",
              "        [0.93048218],\n",
              "        ...,\n",
              "        [0.95475854],\n",
              "        [0.95204256],\n",
              "        [0.95163331]],\n",
              "\n",
              "       [[0.92438053],\n",
              "        [0.93048218],\n",
              "        [0.9299055 ],\n",
              "        ...,\n",
              "        [0.95204256],\n",
              "        [0.95163331],\n",
              "        [0.95725128]],\n",
              "\n",
              "       [[0.93048218],\n",
              "        [0.9299055 ],\n",
              "        [0.93113327],\n",
              "        ...,\n",
              "        [0.95163331],\n",
              "        [0.95725128],\n",
              "        [0.93796041]]])"
            ]
          },
          "metadata": {},
          "execution_count": 16
        }
      ]
    },
    {
      "cell_type": "markdown",
      "metadata": {
        "id": "ZRRSOJeVjEWV"
      },
      "source": [
        "## Part 2 - Building and Training the RNN"
      ]
    },
    {
      "cell_type": "markdown",
      "metadata": {
        "id": "k4XV88JMjHXG"
      },
      "source": [
        "### Importing the Keras libraries and packages"
      ]
    },
    {
      "cell_type": "code",
      "metadata": {
        "id": "9JRnqsxEjKsD"
      },
      "source": [
        "from keras.models import Sequential\n",
        "from keras.layers import Dense\n",
        "from keras.layers import LSTM\n",
        "from keras.layers import Dropout"
      ],
      "execution_count": 17,
      "outputs": []
    },
    {
      "cell_type": "markdown",
      "metadata": {
        "id": "FEIE-1s9jNzC"
      },
      "source": [
        "### Initialising the RNN"
      ]
    },
    {
      "cell_type": "code",
      "source": [
        "regressor = Sequential()"
      ],
      "metadata": {
        "id": "mijmNlleuNPL"
      },
      "execution_count": 18,
      "outputs": []
    },
    {
      "cell_type": "markdown",
      "metadata": {
        "id": "62eg1OPGjT8z"
      },
      "source": [
        "### Adding the first LSTM layer and some Dropout regularisation"
      ]
    },
    {
      "cell_type": "code",
      "source": [
        "regressor.add(LSTM(units = 50,return_sequences=True, input_shape=(X_train.shape[1], 1)))\n",
        "#dropout regularisation\n",
        "regressor.add(Dropout(0.2))"
      ],
      "metadata": {
        "id": "nqLs2If8uhvH"
      },
      "execution_count": 20,
      "outputs": []
    },
    {
      "cell_type": "markdown",
      "metadata": {
        "id": "3XBIYLyOjlMx"
      },
      "source": [
        "### Adding a second LSTM layer and some Dropout regularisation"
      ]
    },
    {
      "cell_type": "code",
      "source": [
        "regressor.add(LSTM(units = 50,return_sequences=True))\n",
        "regressor.add(Dropout(0.2))"
      ],
      "metadata": {
        "id": "beV962DSxSjj"
      },
      "execution_count": 22,
      "outputs": []
    },
    {
      "cell_type": "markdown",
      "metadata": {
        "id": "Ey3fHVnGj1cu"
      },
      "source": [
        "### Adding a third LSTM layer and some Dropout regularisation"
      ]
    },
    {
      "cell_type": "code",
      "source": [
        "regressor.add(LSTM(units = 50,return_sequences=True))\n",
        "regressor.add(Dropout(0.2))"
      ],
      "metadata": {
        "id": "rQ2D6Is_xpc1"
      },
      "execution_count": 24,
      "outputs": []
    },
    {
      "cell_type": "markdown",
      "metadata": {
        "id": "SYTrtfTmj933"
      },
      "source": [
        "### Adding a fourth LSTM layer and some Dropout regularisation"
      ]
    },
    {
      "cell_type": "code",
      "source": [
        "regressor.add(LSTM(units = 50,return_sequences=False))\n",
        "regressor.add(Dropout(0.2))"
      ],
      "metadata": {
        "id": "HHMzw2yExygs"
      },
      "execution_count": 26,
      "outputs": []
    },
    {
      "cell_type": "markdown",
      "metadata": {
        "id": "9ABI6rOIkHhk"
      },
      "source": [
        "### Adding the output layer"
      ]
    },
    {
      "cell_type": "code",
      "source": [
        "regressor.add(Dense(units=1))"
      ],
      "metadata": {
        "id": "2M40j0bAyC3C"
      },
      "execution_count": 28,
      "outputs": []
    },
    {
      "cell_type": "markdown",
      "metadata": {
        "id": "zLx4K7uUkPSh"
      },
      "source": [
        "### Compiling the RNN"
      ]
    },
    {
      "cell_type": "code",
      "source": [
        "regressor.compile(optimizer= 'adam', loss = 'mean_squared_error')"
      ],
      "metadata": {
        "id": "HW9NWZ6EOth9"
      },
      "execution_count": 30,
      "outputs": []
    },
    {
      "cell_type": "markdown",
      "metadata": {
        "id": "-mPhwKGkkebi"
      },
      "source": [
        "### Fitting the RNN to the Training set"
      ]
    },
    {
      "cell_type": "code",
      "metadata": {
        "id": "I06Nkrz5kkb-",
        "colab": {
          "base_uri": "https://localhost:8080/"
        },
        "outputId": "a2d564c4-f883-4431-c7f0-095f4a6f8419"
      },
      "source": [
        "regressor.fit(X_train, y_train, epochs = 100, batch_size = 32)"
      ],
      "execution_count": 32,
      "outputs": [
        {
          "output_type": "stream",
          "name": "stdout",
          "text": [
            "Epoch 1/100\n",
            "38/38 [==============================] - 11s 116ms/step - loss: 0.0357\n",
            "Epoch 2/100\n",
            "38/38 [==============================] - 4s 115ms/step - loss: 0.0078\n",
            "Epoch 3/100\n",
            "38/38 [==============================] - 4s 116ms/step - loss: 0.0057\n",
            "Epoch 4/100\n",
            "38/38 [==============================] - 5s 124ms/step - loss: 0.0058\n",
            "Epoch 5/100\n",
            "38/38 [==============================] - 6s 147ms/step - loss: 0.0050\n",
            "Epoch 6/100\n",
            "38/38 [==============================] - 4s 116ms/step - loss: 0.0052\n",
            "Epoch 7/100\n",
            "38/38 [==============================] - 4s 115ms/step - loss: 0.0045\n",
            "Epoch 8/100\n",
            "38/38 [==============================] - 4s 115ms/step - loss: 0.0046\n",
            "Epoch 9/100\n",
            "38/38 [==============================] - 4s 115ms/step - loss: 0.0042\n",
            "Epoch 10/100\n",
            "38/38 [==============================] - 4s 116ms/step - loss: 0.0040\n",
            "Epoch 11/100\n",
            "38/38 [==============================] - 4s 116ms/step - loss: 0.0042\n",
            "Epoch 12/100\n",
            "38/38 [==============================] - 4s 115ms/step - loss: 0.0039\n",
            "Epoch 13/100\n",
            "38/38 [==============================] - 4s 116ms/step - loss: 0.0044\n",
            "Epoch 14/100\n",
            "38/38 [==============================] - 4s 115ms/step - loss: 0.0038\n",
            "Epoch 15/100\n",
            "38/38 [==============================] - 4s 116ms/step - loss: 0.0038\n",
            "Epoch 16/100\n",
            "38/38 [==============================] - 4s 115ms/step - loss: 0.0039\n",
            "Epoch 17/100\n",
            "38/38 [==============================] - 4s 116ms/step - loss: 0.0041\n",
            "Epoch 18/100\n",
            "38/38 [==============================] - 4s 115ms/step - loss: 0.0034\n",
            "Epoch 19/100\n",
            "38/38 [==============================] - 4s 117ms/step - loss: 0.0033\n",
            "Epoch 20/100\n",
            "38/38 [==============================] - 4s 116ms/step - loss: 0.0032\n",
            "Epoch 21/100\n",
            "38/38 [==============================] - 4s 115ms/step - loss: 0.0031\n",
            "Epoch 22/100\n",
            "38/38 [==============================] - 4s 115ms/step - loss: 0.0031\n",
            "Epoch 23/100\n",
            "38/38 [==============================] - 4s 116ms/step - loss: 0.0033\n",
            "Epoch 24/100\n",
            "38/38 [==============================] - 4s 117ms/step - loss: 0.0033\n",
            "Epoch 25/100\n",
            "38/38 [==============================] - 4s 116ms/step - loss: 0.0036\n",
            "Epoch 26/100\n",
            "38/38 [==============================] - 4s 116ms/step - loss: 0.0037\n",
            "Epoch 27/100\n",
            "38/38 [==============================] - 4s 117ms/step - loss: 0.0030\n",
            "Epoch 28/100\n",
            "38/38 [==============================] - 4s 116ms/step - loss: 0.0030\n",
            "Epoch 29/100\n",
            "38/38 [==============================] - 4s 118ms/step - loss: 0.0031\n",
            "Epoch 30/100\n",
            "38/38 [==============================] - 4s 118ms/step - loss: 0.0027\n",
            "Epoch 31/100\n",
            "38/38 [==============================] - 4s 117ms/step - loss: 0.0029\n",
            "Epoch 32/100\n",
            "38/38 [==============================] - 4s 116ms/step - loss: 0.0027\n",
            "Epoch 33/100\n",
            "38/38 [==============================] - 4s 116ms/step - loss: 0.0028\n",
            "Epoch 34/100\n",
            "38/38 [==============================] - 4s 115ms/step - loss: 0.0034\n",
            "Epoch 35/100\n",
            "38/38 [==============================] - 4s 115ms/step - loss: 0.0027\n",
            "Epoch 36/100\n",
            "38/38 [==============================] - 4s 115ms/step - loss: 0.0032\n",
            "Epoch 37/100\n",
            "38/38 [==============================] - 4s 117ms/step - loss: 0.0030\n",
            "Epoch 38/100\n",
            "38/38 [==============================] - 4s 116ms/step - loss: 0.0028\n",
            "Epoch 39/100\n",
            "38/38 [==============================] - 4s 116ms/step - loss: 0.0026\n",
            "Epoch 40/100\n",
            "38/38 [==============================] - 6s 158ms/step - loss: 0.0027\n",
            "Epoch 41/100\n",
            "38/38 [==============================] - 4s 116ms/step - loss: 0.0026\n",
            "Epoch 42/100\n",
            "38/38 [==============================] - 4s 117ms/step - loss: 0.0025\n",
            "Epoch 43/100\n",
            "38/38 [==============================] - 4s 116ms/step - loss: 0.0024\n",
            "Epoch 44/100\n",
            "38/38 [==============================] - 4s 116ms/step - loss: 0.0023\n",
            "Epoch 45/100\n",
            "38/38 [==============================] - 4s 116ms/step - loss: 0.0024\n",
            "Epoch 46/100\n",
            "38/38 [==============================] - 4s 116ms/step - loss: 0.0025\n",
            "Epoch 47/100\n",
            "38/38 [==============================] - 4s 117ms/step - loss: 0.0023\n",
            "Epoch 48/100\n",
            "38/38 [==============================] - 4s 116ms/step - loss: 0.0024\n",
            "Epoch 49/100\n",
            "38/38 [==============================] - 4s 117ms/step - loss: 0.0023\n",
            "Epoch 50/100\n",
            "38/38 [==============================] - 4s 117ms/step - loss: 0.0026\n",
            "Epoch 51/100\n",
            "38/38 [==============================] - 4s 116ms/step - loss: 0.0021\n",
            "Epoch 52/100\n",
            "38/38 [==============================] - 4s 116ms/step - loss: 0.0021\n",
            "Epoch 53/100\n",
            "38/38 [==============================] - 4s 117ms/step - loss: 0.0024\n",
            "Epoch 54/100\n",
            "38/38 [==============================] - 4s 118ms/step - loss: 0.0024\n",
            "Epoch 55/100\n",
            "38/38 [==============================] - 4s 117ms/step - loss: 0.0023\n",
            "Epoch 56/100\n",
            "38/38 [==============================] - 4s 118ms/step - loss: 0.0021\n",
            "Epoch 57/100\n",
            "38/38 [==============================] - 4s 118ms/step - loss: 0.0023\n",
            "Epoch 58/100\n",
            "38/38 [==============================] - 4s 118ms/step - loss: 0.0021\n",
            "Epoch 59/100\n",
            "38/38 [==============================] - 4s 117ms/step - loss: 0.0020\n",
            "Epoch 60/100\n",
            "38/38 [==============================] - 4s 117ms/step - loss: 0.0020\n",
            "Epoch 61/100\n",
            "38/38 [==============================] - 4s 117ms/step - loss: 0.0022\n",
            "Epoch 62/100\n",
            "38/38 [==============================] - 4s 116ms/step - loss: 0.0021\n",
            "Epoch 63/100\n",
            "38/38 [==============================] - 4s 117ms/step - loss: 0.0021\n",
            "Epoch 64/100\n",
            "38/38 [==============================] - 4s 117ms/step - loss: 0.0021\n",
            "Epoch 65/100\n",
            "38/38 [==============================] - 4s 116ms/step - loss: 0.0018\n",
            "Epoch 66/100\n",
            "38/38 [==============================] - 4s 117ms/step - loss: 0.0018\n",
            "Epoch 67/100\n",
            "38/38 [==============================] - 4s 117ms/step - loss: 0.0019\n",
            "Epoch 68/100\n",
            "38/38 [==============================] - 4s 118ms/step - loss: 0.0020\n",
            "Epoch 69/100\n",
            "38/38 [==============================] - 4s 118ms/step - loss: 0.0019\n",
            "Epoch 70/100\n",
            "38/38 [==============================] - 4s 116ms/step - loss: 0.0022\n",
            "Epoch 71/100\n",
            "38/38 [==============================] - 4s 117ms/step - loss: 0.0017\n",
            "Epoch 72/100\n",
            "38/38 [==============================] - 4s 116ms/step - loss: 0.0017\n",
            "Epoch 73/100\n",
            "38/38 [==============================] - 4s 117ms/step - loss: 0.0018\n",
            "Epoch 74/100\n",
            "38/38 [==============================] - 4s 118ms/step - loss: 0.0017\n",
            "Epoch 75/100\n",
            "38/38 [==============================] - 6s 157ms/step - loss: 0.0017\n",
            "Epoch 76/100\n",
            "38/38 [==============================] - 4s 116ms/step - loss: 0.0018\n",
            "Epoch 77/100\n",
            "38/38 [==============================] - 4s 117ms/step - loss: 0.0017\n",
            "Epoch 78/100\n",
            "38/38 [==============================] - 4s 118ms/step - loss: 0.0020\n",
            "Epoch 79/100\n",
            "38/38 [==============================] - 4s 116ms/step - loss: 0.0017\n",
            "Epoch 80/100\n",
            "38/38 [==============================] - 4s 116ms/step - loss: 0.0017\n",
            "Epoch 81/100\n",
            "38/38 [==============================] - 4s 118ms/step - loss: 0.0016\n",
            "Epoch 82/100\n",
            "38/38 [==============================] - 5s 119ms/step - loss: 0.0016\n",
            "Epoch 83/100\n",
            "38/38 [==============================] - 4s 118ms/step - loss: 0.0019\n",
            "Epoch 84/100\n",
            "38/38 [==============================] - 4s 118ms/step - loss: 0.0016\n",
            "Epoch 85/100\n",
            "38/38 [==============================] - 4s 116ms/step - loss: 0.0016\n",
            "Epoch 86/100\n",
            "38/38 [==============================] - 4s 117ms/step - loss: 0.0016\n",
            "Epoch 87/100\n",
            "38/38 [==============================] - 4s 118ms/step - loss: 0.0015\n",
            "Epoch 88/100\n",
            "38/38 [==============================] - 4s 117ms/step - loss: 0.0015\n",
            "Epoch 89/100\n",
            "38/38 [==============================] - 4s 117ms/step - loss: 0.0016\n",
            "Epoch 90/100\n",
            "38/38 [==============================] - 4s 117ms/step - loss: 0.0016\n",
            "Epoch 91/100\n",
            "38/38 [==============================] - 4s 117ms/step - loss: 0.0014\n",
            "Epoch 92/100\n",
            "38/38 [==============================] - 4s 116ms/step - loss: 0.0015\n",
            "Epoch 93/100\n",
            "38/38 [==============================] - 4s 117ms/step - loss: 0.0013\n",
            "Epoch 94/100\n",
            "38/38 [==============================] - 5s 118ms/step - loss: 0.0014\n",
            "Epoch 95/100\n",
            "38/38 [==============================] - 4s 118ms/step - loss: 0.0015\n",
            "Epoch 96/100\n",
            "38/38 [==============================] - 5s 120ms/step - loss: 0.0014\n",
            "Epoch 97/100\n",
            "38/38 [==============================] - 5s 119ms/step - loss: 0.0015\n",
            "Epoch 98/100\n",
            "38/38 [==============================] - 4s 117ms/step - loss: 0.0014\n",
            "Epoch 99/100\n",
            "38/38 [==============================] - 5s 119ms/step - loss: 0.0015\n",
            "Epoch 100/100\n",
            "38/38 [==============================] - 5s 119ms/step - loss: 0.0016\n"
          ]
        },
        {
          "output_type": "execute_result",
          "data": {
            "text/plain": [
              "<keras.callbacks.History at 0x7f4f3ca4d850>"
            ]
          },
          "metadata": {},
          "execution_count": 32
        }
      ]
    },
    {
      "cell_type": "markdown",
      "metadata": {
        "id": "4hRau_lIkrE8"
      },
      "source": [
        "## Part 3 - Making the predictions and visualising the results"
      ]
    },
    {
      "cell_type": "markdown",
      "metadata": {
        "id": "SgJO6qEDksxD"
      },
      "source": [
        "### Getting the real stock price of 2017"
      ]
    },
    {
      "cell_type": "code",
      "source": [
        "dataset_test = pd.read_csv('Google_Stock_Price_Test.csv')\n",
        "real_stock_price= dataset_test.iloc[:, 1:2].values"
      ],
      "metadata": {
        "id": "AMErYbacQ_mM"
      },
      "execution_count": 33,
      "outputs": []
    },
    {
      "cell_type": "markdown",
      "metadata": {
        "id": "GrvrLblxkz42"
      },
      "source": [
        "### Getting the predicted stock price of 2017"
      ]
    },
    {
      "cell_type": "code",
      "source": [
        "real_stock_price"
      ],
      "metadata": {
        "colab": {
          "base_uri": "https://localhost:8080/"
        },
        "id": "j8QxbCQbW9Gp",
        "outputId": "ffa3eb1c-5a09-4964-cf1a-a2726fa991e6"
      },
      "execution_count": 35,
      "outputs": [
        {
          "output_type": "execute_result",
          "data": {
            "text/plain": [
              "array([[778.81],\n",
              "       [788.36],\n",
              "       [786.08],\n",
              "       [795.26],\n",
              "       [806.4 ],\n",
              "       [807.86],\n",
              "       [805.  ],\n",
              "       [807.14],\n",
              "       [807.48],\n",
              "       [807.08],\n",
              "       [805.81],\n",
              "       [805.12],\n",
              "       [806.91],\n",
              "       [807.25],\n",
              "       [822.3 ],\n",
              "       [829.62],\n",
              "       [837.81],\n",
              "       [834.71],\n",
              "       [814.66],\n",
              "       [796.86]])"
            ]
          },
          "metadata": {},
          "execution_count": 35
        }
      ]
    },
    {
      "cell_type": "code",
      "source": [
        "dataset_total = pd.concat((dataset_train['Open'], dataset_test['Open']), axis = 0)\n",
        "inputs = dataset_total[len(dataset_total) - len(dataset_test) - 60:].values\n",
        "inputs = inputs.reshape(-1,1)\n",
        "inputs = sc.transform(inputs)\n",
        "X_test = []\n",
        "for i in range(60, 80):\n",
        "    X_test.append(inputs[i-60:i, 0])\n",
        "X_test = np.array(X_test)\n",
        "X_test = np.reshape(X_test, (X_test.shape[0], X_test.shape[1], 1))\n",
        "predicted_stock_price = regressor.predict(X_test)\n",
        "predicted_stock_price = sc.inverse_transform(predicted_stock_price)"
      ],
      "metadata": {
        "id": "y_NPR-TKeCws"
      },
      "execution_count": 40,
      "outputs": []
    },
    {
      "cell_type": "markdown",
      "metadata": {
        "id": "iFTNs3YHk6FQ"
      },
      "source": [
        "### Visualising the results"
      ]
    },
    {
      "cell_type": "code",
      "source": [
        "plt.plot(real_stock_price, color= 'green', label ='Real Google Stock Prices')\n",
        "plt.plot(predicted_stock_price, color = 'blue', label = 'Predicted Google Stock Price')\n",
        "plt.title('Google Stock Price Prediction')\n",
        "plt.xlabel('Time')\n",
        "plt.ylabel('Google Stock Price')\n",
        "plt.legend()\n",
        "plt.show()"
      ],
      "metadata": {
        "colab": {
          "base_uri": "https://localhost:8080/",
          "height": 295
        },
        "id": "L-BT0f7riLhK",
        "outputId": "74d29efa-8aaf-4579-e5e1-b4dd13f86467"
      },
      "execution_count": 43,
      "outputs": [
        {
          "output_type": "display_data",
          "data": {
            "text/plain": [
              "<Figure size 432x288 with 1 Axes>"
            ],
            "image/png": "[encoded data removed]"
          },
          "metadata": {
            "needs_background": "light"
          }
        }
      ]
    },
    {
      "cell_type": "code",
      "source": [
        "import math\n",
        "from sklearn.metrics import mean_squared_error\n",
        "rmse= math.sqrt(mean_squared_error(real_stock_price, predicted_stock_price))"
      ],
      "metadata": {
        "id": "HYxPOkeRnDkQ"
      },
      "execution_count": 44,
      "outputs": []
    },
    {
      "cell_type": "code",
      "source": [
        "rmse = rmse/100\n",
        "rmse"
      ],
      "metadata": {
        "colab": {
          "base_uri": "https://localhost:8080/"
        },
        "id": "LcO7ROEYnV7z",
        "outputId": "fc260d2e-781c-474d-b1ac-4f7d987fbd1a"
      },
      "execution_count": 46,
      "outputs": [
        {
          "output_type": "execute_result",
          "data": {
            "text/plain": [
              "0.19977516275238244"
            ]
          },
          "metadata": {},
          "execution_count": 46
        }
      ]
    },
    {
      "cell_type": "code",
      "source": [
        "# We get a decent root mean squared error value of 0.19 considering how \n",
        "# tough it is to predict stock prices :)"
      ],
      "metadata": {
        "id": "WWMxw-HenXB-"
      },
      "execution_count": 49,
      "outputs": []
    },
    {
      "cell_type": "code",
      "source": [],
      "metadata": {
        "id": "gEJ-t0bJoZ8-"
      },
      "execution_count": null,
      "outputs": []
    }
  ]
}